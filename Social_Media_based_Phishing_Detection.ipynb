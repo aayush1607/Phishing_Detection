{
  "nbformat": 4,
  "nbformat_minor": 0,
  "metadata": {
    "colab": {
      "name": "Social Media based Phishing Detection.ipynb",
      "provenance": [],
      "collapsed_sections": [],
      "authorship_tag": "ABX9TyPy1ht+MYW1CeqXMQDEgStV",
      "include_colab_link": true
    },
    "kernelspec": {
      "name": "python3",
      "display_name": "Python 3"
    },
    "language_info": {
      "name": "python"
    }
  },
  "cells": [
    {
      "cell_type": "markdown",
      "metadata": {
        "id": "view-in-github",
        "colab_type": "text"
      },
      "source": [
        "<a href=\"https://colab.research.google.com/github/aayush1607/Phishing_Detection/blob/main/Social_Media_based_Phishing_Detection.ipynb\" target=\"_parent\"><img src=\"https://colab.research.google.com/assets/colab-badge.svg\" alt=\"Open In Colab\"/></a>"
      ]
    },
    {
      "cell_type": "code",
      "source": [
        "!pip install arff"
      ],
      "metadata": {
        "colab": {
          "base_uri": "https://localhost:8080/"
        },
        "id": "hj3mvYP6vH57",
        "outputId": "292420b0-6f92-4ae3-e2ac-e166913b98f9"
      },
      "execution_count": null,
      "outputs": [
        {
          "output_type": "stream",
          "name": "stdout",
          "text": [
            "Collecting arff\n",
            "  Downloading arff-0.9.tar.gz (4.7 kB)\n",
            "Building wheels for collected packages: arff\n",
            "  Building wheel for arff (setup.py) ... \u001b[?25l\u001b[?25hdone\n",
            "  Created wheel for arff: filename=arff-0.9-py3-none-any.whl size=4971 sha256=e675254c5fbb0c9df4c65a8c512a71f33d78441a04a24ead3a0a54d6789f4f30\n",
            "  Stored in directory: /root/.cache/pip/wheels/fe/81/bd/4ae90e24ba860304e375da219f9205b2586dbee255f3ee70e2\n",
            "Successfully built arff\n",
            "Installing collected packages: arff\n",
            "Successfully installed arff-0.9\n"
          ]
        }
      ]
    },
    {
      "cell_type": "code",
      "source": [
        "from sklearn.tree import _tree\n"
      ],
      "metadata": {
        "id": "qlnJap-Nug-0"
      },
      "execution_count": null,
      "outputs": []
    },
    {
      "cell_type": "code",
      "source": [
        "def tree_to_json(tree):\n",
        "    tree_ = tree.tree_\n",
        "    feature_names = range(30)\n",
        "    feature_name = [\n",
        "        feature_names[i] if i != _tree.TREE_UNDEFINED else \"undefined!\"\n",
        "        for i in tree_.feature\n",
        "    ]\n",
        "    def recurse(node):\n",
        "        tree_json = dict()\n",
        "        if tree_.feature[node] != _tree.TREE_UNDEFINED:\n",
        "            tree_json['type'] = 'split'\n",
        "            threshold = tree_.threshold[node]\n",
        "            tree_json['threshold'] = \"{} <= {}\".format(feature_name[node], threshold)\n",
        "            tree_json['left'] = recurse(tree_.children_left[node])\n",
        "            tree_json['right'] = recurse(tree_.children_right[node])\n",
        "        else:\n",
        "            tree_json['type'] = 'leaf'\n",
        "            tree_json['value'] = tree_.value[node].tolist()\n",
        "        return tree_json\n",
        "\n",
        "    return recurse(0)\n"
      ],
      "metadata": {
        "id": "SaLTJfDiujR9"
      },
      "execution_count": null,
      "outputs": []
    },
    {
      "cell_type": "code",
      "source": [
        "def forest_to_json(forest):\n",
        "    forest_json = dict()\n",
        "    forest_json['n_features'] = forest.n_features_\n",
        "    forest_json['n_classes'] = forest.n_classes_\n",
        "    forest_json['classes'] = forest.classes_.tolist()\n",
        "    forest_json['n_outputs'] = forest.n_outputs_\n",
        "    forest_json['n_estimators'] = forest.n_estimators\n",
        "    forest_json['estimators'] = [tree_to_json(estimator) for estimator in forest.estimators_]\n",
        "    return forest_json\n"
      ],
      "metadata": {
        "id": "TrOBzJkRun_h"
      },
      "execution_count": null,
      "outputs": []
    },
    {
      "cell_type": "code",
      "execution_count": null,
      "metadata": {
        "id": "igKmTlewuSF2"
      },
      "outputs": [],
      "source": [
        "from sklearn.ensemble import RandomForestClassifier\n",
        "from sklearn.tree import DecisionTreeClassifier\n",
        "from sklearn.model_selection import cross_val_score\n",
        "from sklearn.metrics import accuracy_score\n",
        "import numpy as np\n",
        "import json"
      ]
    },
    {
      "cell_type": "code",
      "source": [
        "import arff\n",
        "import numpy as np\n",
        "import json\n",
        "from sklearn.model_selection import train_test_split, KFold"
      ],
      "metadata": {
        "id": "rQQs9cFXugmw"
      },
      "execution_count": null,
      "outputs": []
    },
    {
      "cell_type": "code",
      "source": [
        "dataset = arff.load(open('dataset.arff', 'r'))\n",
        "barray = []\n",
        "for row in arff.load('dataset.arff'):\n",
        "  barray.append(list(row))\n",
        "\n",
        "data = np.array(barray)\n",
        "data"
      ],
      "metadata": {
        "colab": {
          "base_uri": "https://localhost:8080/"
        },
        "id": "Oo0Pq5ukvCUX",
        "outputId": "042df1e4-d1e9-4a18-ef36-cd7458b5c87d"
      },
      "execution_count": null,
      "outputs": [
        {
          "output_type": "execute_result",
          "data": {
            "text/plain": [
              "array([['-1', '1', '1', ..., '1', '-1', '-1'],\n",
              "       ['1', '1', '1', ..., '1', '1', '-1'],\n",
              "       ['1', '0', '1', ..., '0', '-1', '-1'],\n",
              "       ...,\n",
              "       ['1', '-1', '1', ..., '0', '1', '-1'],\n",
              "       ['-1', '-1', '1', ..., '1', '1', '-1'],\n",
              "       ['-1', '-1', '1', ..., '1', '-1', '-1']], dtype='<U2')"
            ]
          },
          "metadata": {},
          "execution_count": 25
        }
      ]
    },
    {
      "cell_type": "code",
      "source": [
        "print('The dataset has {0} datapoints with {1} features'.format(data.shape[0], data.shape[1]-1))"
      ],
      "metadata": {
        "colab": {
          "base_uri": "https://localhost:8080/"
        },
        "id": "HxT2rEwlvb9Y",
        "outputId": "970a3e76-a48f-429d-a76d-0d05935b6520"
      },
      "execution_count": null,
      "outputs": [
        {
          "output_type": "stream",
          "name": "stdout",
          "text": [
            "The dataset has 11055 datapoints with 30 features\n"
          ]
        }
      ]
    },
    {
      "cell_type": "code",
      "source": [
        "data = data[:, [0, 1, 2, 3, 4, 5, 6, 7, 9, 10, 11, 12, 13, 14, 15, 16, 22, 30]]"
      ],
      "metadata": {
        "id": "45k_BHZqvvBK"
      },
      "execution_count": null,
      "outputs": []
    },
    {
      "cell_type": "code",
      "source": [
        "X, y = data[:, :-1], data[:, -1]\n",
        "y.reshape(y.shape[0])\n",
        "print('Before spliting')\n",
        "print('X:{0}, y:{1}'.format(X.shape, y.shape))\n",
        "X_train, X_test, y_train, y_test = train_test_split(X, y, test_size=0.3, random_state=0)\n",
        "print('After spliting')\n",
        "print('X_train:{0}, y_train:{1}, X_test:{2}, y_test:{3}'.format(X_train.shape, y_train.shape, X_test.shape, y_test.shape))"
      ],
      "metadata": {
        "colab": {
          "base_uri": "https://localhost:8080/"
        },
        "id": "py2v2c53w0m3",
        "outputId": "314f9ff4-9497-4038-ee1c-a453be5aefcc"
      },
      "execution_count": null,
      "outputs": [
        {
          "output_type": "stream",
          "name": "stdout",
          "text": [
            "Before spliting\n",
            "X:(11055, 17), y:(11055,)\n",
            "After spliting\n",
            "X_train:(7738, 17), y_train:(7738,), X_test:(3317, 17), y_test:(3317,)\n"
          ]
        }
      ]
    },
    {
      "cell_type": "code",
      "source": [
        "np.save('X_train.npy', X_train)\n",
        "np.save('X_test.npy', X_test)\n",
        "np.save('y_train.npy', y_train)\n",
        "np.save('y_test.npy', y_test)"
      ],
      "metadata": {
        "id": "PF0h-ujYw2-5"
      },
      "execution_count": null,
      "outputs": []
    },
    {
      "cell_type": "code",
      "source": [
        "test_data = dict()\n",
        "test_data['X_test'] = X_test.tolist()\n",
        "test_data['y_test'] = y_test.tolist()\n",
        "with open('testdata.json', 'w') as tdfile:\n",
        "    json.dump(test_data, tdfile)\n",
        "    print('Test Data written to testdata.json')"
      ],
      "metadata": {
        "colab": {
          "base_uri": "https://localhost:8080/"
        },
        "id": "jLFsxAg2w6EL",
        "outputId": "1b68bbb2-5cdb-4b39-9d43-518c37daa88e"
      },
      "execution_count": null,
      "outputs": [
        {
          "output_type": "stream",
          "name": "stdout",
          "text": [
            "Test Data written to testdata.json\n"
          ]
        }
      ]
    },
    {
      "cell_type": "code",
      "source": [
        "X_train = np.load('X_train.npy')\n",
        "y_train = np.load('y_train.npy')\n",
        "print('X_train:{0}, y_train:{1}'.format(X_train.shape, y_train.shape))"
      ],
      "metadata": {
        "colab": {
          "base_uri": "https://localhost:8080/"
        },
        "id": "wfZ_t3Oiw83d",
        "outputId": "3d80d23a-d058-4a47-d395-d022bbe76de2"
      },
      "execution_count": null,
      "outputs": [
        {
          "output_type": "stream",
          "name": "stdout",
          "text": [
            "X_train:(7738, 17), y_train:(7738,)\n"
          ]
        }
      ]
    },
    {
      "cell_type": "code",
      "source": [
        "clf = RandomForestClassifier()\n",
        "print('Cross Validation Score: {0}'.format(np.mean(cross_val_score(clf, X_train, y_train, cv=10))))"
      ],
      "metadata": {
        "colab": {
          "base_uri": "https://localhost:8080/"
        },
        "id": "mMLpacInxIWn",
        "outputId": "de889d3e-e199-4069-cc73-42a44e9c14d2"
      },
      "execution_count": null,
      "outputs": [
        {
          "output_type": "stream",
          "name": "stdout",
          "text": [
            "Cross Validation Score: 0.9467549832693187\n"
          ]
        }
      ]
    },
    {
      "cell_type": "code",
      "source": [
        "clf.fit(X_train, y_train)"
      ],
      "metadata": {
        "colab": {
          "base_uri": "https://localhost:8080/"
        },
        "id": "p5TwHfIcxJ7M",
        "outputId": "97f1cdf0-9457-43ca-9618-954d2f3976dc"
      },
      "execution_count": null,
      "outputs": [
        {
          "output_type": "execute_result",
          "data": {
            "text/plain": [
              "RandomForestClassifier()"
            ]
          },
          "metadata": {},
          "execution_count": 36
        }
      ]
    },
    {
      "cell_type": "code",
      "source": [
        "X_test = np.load('X_test.npy')\n",
        "y_test = np.load('y_test.npy')"
      ],
      "metadata": {
        "id": "D_e3vxwtxLbu"
      },
      "execution_count": null,
      "outputs": []
    },
    {
      "cell_type": "code",
      "source": [
        "pred = clf.predict(X_test)\n",
        "print('Accuracy: {}'.format(accuracy_score(y_test, pred)))"
      ],
      "metadata": {
        "colab": {
          "base_uri": "https://localhost:8080/"
        },
        "id": "vAxo1TE8xPN0",
        "outputId": "8e5a9041-3943-4255-ca90-fb24ad500be5"
      },
      "execution_count": null,
      "outputs": [
        {
          "output_type": "stream",
          "name": "stdout",
          "text": [
            "Accuracy: 0.9469400060295448\n"
          ]
        }
      ]
    },
    {
      "cell_type": "code",
      "source": [
        "json.dump(forest_to_json(clf), open('classifier.json', 'w'))"
      ],
      "metadata": {
        "colab": {
          "base_uri": "https://localhost:8080/"
        },
        "id": "TOvuzynvxQoI",
        "outputId": "02590823-0443-4f1e-fa1f-dfd8876f9826"
      },
      "execution_count": null,
      "outputs": [
        {
          "output_type": "stream",
          "name": "stderr",
          "text": [
            "/usr/local/lib/python3.7/dist-packages/sklearn/utils/deprecation.py:103: FutureWarning: Attribute `n_features_` was deprecated in version 1.0 and will be removed in 1.2. Use `n_features_in_` instead.\n",
            "  warnings.warn(msg, category=FutureWarning)\n"
          ]
        }
      ]
    },
    {
      "cell_type": "code",
      "source": [
        ""
      ],
      "metadata": {
        "id": "nQvkpBysxRx6"
      },
      "execution_count": null,
      "outputs": []
    }
  ]
}